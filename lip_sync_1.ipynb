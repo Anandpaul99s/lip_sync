{
  "nbformat": 4,
  "nbformat_minor": 0,
  "metadata": {
    "colab": {
      "provenance": []
    },
    "kernelspec": {
      "name": "python3",
      "display_name": "Python 3"
    },
    "language_info": {
      "name": "python"
    },
    "accelerator": "TPU"
  },
  "cells": [
    {
      "cell_type": "code",
      "execution_count": null,
      "metadata": {
        "colab": {
          "base_uri": "https://localhost:8080/"
        },
        "id": "ZWi6sschViwk",
        "outputId": "93c20331-b23a-48e7-c461-bd0962c60081"
      },
      "outputs": [
        {
          "output_type": "stream",
          "name": "stdout",
          "text": [
            "nvcc: NVIDIA (R) Cuda compiler driver\n",
            "Copyright (c) 2005-2022 NVIDIA Corporation\n",
            "Built on Wed_Sep_21_10:33:58_PDT_2022\n",
            "Cuda compilation tools, release 11.8, V11.8.89\n",
            "Build cuda_11.8.r11.8/compiler.31833905_0\n"
          ]
        }
      ],
      "source": [
        "!nvcc --version"
      ]
    },
    {
      "cell_type": "markdown",
      "source": [
        "# Mounting G Drive"
      ],
      "metadata": {
        "id": "3v8eRGfLVyib"
      }
    },
    {
      "cell_type": "code",
      "source": [
        "from google.colab import drive\n",
        "drive.mount('/content/gdrive')"
      ],
      "metadata": {
        "colab": {
          "base_uri": "https://localhost:8080/"
        },
        "id": "zkCEkTWtV0p2",
        "outputId": "bc032d8c-869e-45a4-ceeb-7a12466f95b4"
      },
      "execution_count": null,
      "outputs": [
        {
          "output_type": "stream",
          "name": "stdout",
          "text": [
            "Mounted at /content/gdrive\n"
          ]
        }
      ]
    },
    {
      "cell_type": "code",
      "source": [
        "# Cloning the Git"
      ],
      "metadata": {
        "id": "stQm4pfGV8re"
      },
      "execution_count": null,
      "outputs": []
    },
    {
      "cell_type": "code",
      "source": [
        "!git clone https://github.com/Rudrabha/Wav2Lip.git"
      ],
      "metadata": {
        "colab": {
          "base_uri": "https://localhost:8080/"
        },
        "id": "wL-l7rQ2WAUF",
        "outputId": "74f65278-e8a9-4933-e192-cb7f2d962342"
      },
      "execution_count": null,
      "outputs": [
        {
          "output_type": "stream",
          "name": "stdout",
          "text": [
            "Cloning into 'Wav2Lip'...\n",
            "remote: Enumerating objects: 369, done.\u001b[K\n",
            "remote: Counting objects: 100% (9/9), done.\u001b[K\n",
            "remote: Compressing objects: 100% (8/8), done.\u001b[K\n",
            "remote: Total 369 (delta 4), reused 2 (delta 1), pack-reused 360\u001b[K\n",
            "Receiving objects: 100% (369/369), 528.94 KiB | 7.78 MiB/s, done.\n",
            "Resolving deltas: 100% (202/202), done.\n"
          ]
        }
      ]
    },
    {
      "cell_type": "code",
      "source": [
        "!ls /content/gdrive/MyDrive/Wav2Lip"
      ],
      "metadata": {
        "colab": {
          "base_uri": "https://localhost:8080/"
        },
        "id": "5nGFfvuIWFK9",
        "outputId": "209aa671-39c3-4d94-b49e-47d0fd2949d0"
      },
      "execution_count": null,
      "outputs": [
        {
          "output_type": "stream",
          "name": "stdout",
          "text": [
            "inp1.mp4  input_audio.wav  wav2lip_gan.pth\n"
          ]
        }
      ]
    },
    {
      "cell_type": "code",
      "source": [
        "!cp -ri \"/content/gdrive/MyDrive/Wav2Lip/wav2lip_gan.pth\" /content/Wav2Lip/checkpoints/"
      ],
      "metadata": {
        "id": "5Y_xAicgWKxj"
      },
      "execution_count": null,
      "outputs": []
    },
    {
      "cell_type": "code",
      "source": [
        "!pip uninstall tensorflow tensorflow-gpu"
      ],
      "metadata": {
        "colab": {
          "base_uri": "https://localhost:8080/"
        },
        "id": "POIMmgwNWNKF",
        "outputId": "2c3105cb-a764-4e19-ab6d-e292478571b9"
      },
      "execution_count": null,
      "outputs": [
        {
          "output_type": "stream",
          "name": "stdout",
          "text": [
            "Found existing installation: tensorflow 2.14.0\n",
            "Uninstalling tensorflow-2.14.0:\n",
            "  Would remove:\n",
            "    /usr/local/bin/estimator_ckpt_converter\n",
            "    /usr/local/bin/import_pb_to_tensorboard\n",
            "    /usr/local/bin/saved_model_cli\n",
            "    /usr/local/bin/tensorboard\n",
            "    /usr/local/bin/tf_upgrade_v2\n",
            "    /usr/local/bin/tflite_convert\n",
            "    /usr/local/bin/toco\n",
            "    /usr/local/bin/toco_from_protos\n",
            "    /usr/local/lib/python3.10/dist-packages/tensorflow-2.14.0.dist-info/*\n",
            "    /usr/local/lib/python3.10/dist-packages/tensorflow/*\n",
            "Proceed (Y/n)? Y\n",
            "Y\n",
            "\n",
            "  Successfully uninstalled tensorflow-2.14.0\n",
            "\u001b[33mWARNING: Skipping tensorflow-gpu as it is not installed.\u001b[0m\u001b[33m\n",
            "\u001b[0m"
          ]
        }
      ]
    },
    {
      "cell_type": "code",
      "source": [
        "!cd Wav2Lip && pip install -r requirements.txt"
      ],
      "metadata": {
        "colab": {
          "base_uri": "https://localhost:8080/"
        },
        "id": "cIeewgeUWWWK",
        "outputId": "d9129c56-2883-4ec2-faa6-8183eb053bad"
      },
      "execution_count": null,
      "outputs": [
        {
          "output_type": "stream",
          "name": "stdout",
          "text": [
            "Collecting librosa==0.7.0 (from -r requirements.txt (line 1))\n",
            "  Downloading librosa-0.7.0.tar.gz (1.6 MB)\n",
            "\u001b[2K     \u001b[90m━━━━━━━━━━━━━━━━━━━━━━━━━━━━━━━━━━━━━━━━\u001b[0m \u001b[32m1.6/1.6 MB\u001b[0m \u001b[31m18.4 MB/s\u001b[0m eta \u001b[36m0:00:00\u001b[0m\n",
            "\u001b[?25h  Preparing metadata (setup.py) ... \u001b[?25l\u001b[?25hdone\n",
            "Collecting numpy==1.17.1 (from -r requirements.txt (line 2))\n",
            "  Downloading numpy-1.17.1.zip (6.5 MB)\n",
            "\u001b[2K     \u001b[90m━━━━━━━━━━━━━━━━━━━━━━━━━━━━━━━━━━━━━━━━\u001b[0m \u001b[32m6.5/6.5 MB\u001b[0m \u001b[31m77.8 MB/s\u001b[0m eta \u001b[36m0:00:00\u001b[0m\n",
            "\u001b[?25h  Preparing metadata (setup.py) ... \u001b[?25l\u001b[?25hdone\n",
            "Requirement already satisfied: opencv-contrib-python>=4.2.0.34 in /usr/local/lib/python3.10/dist-packages (from -r requirements.txt (line 3)) (4.8.0.76)\n",
            "\u001b[31mERROR: Could not find a version that satisfies the requirement opencv-python==4.1.0.25 (from versions: 3.4.0.14, 3.4.10.37, 3.4.11.39, 3.4.11.41, 3.4.11.43, 3.4.11.45, 3.4.13.47, 3.4.15.55, 3.4.16.57, 3.4.16.59, 3.4.17.61, 3.4.17.63, 3.4.18.65, 4.3.0.38, 4.4.0.40, 4.4.0.42, 4.4.0.44, 4.4.0.46, 4.5.1.48, 4.5.3.56, 4.5.4.58, 4.5.4.60, 4.5.5.62, 4.5.5.64, 4.6.0.66, 4.7.0.68, 4.7.0.72, 4.8.0.74, 4.8.0.76, 4.8.1.78)\u001b[0m\u001b[31m\n",
            "\u001b[0m\u001b[31mERROR: No matching distribution found for opencv-python==4.1.0.25\u001b[0m\u001b[31m\n",
            "\u001b[0m"
          ]
        }
      ]
    },
    {
      "cell_type": "code",
      "source": [
        "!wget \"https://www.adrianbulat.com/downloads/python-fan/s3fd-619a316812.pth\" -O \"Wav2Lip/face_detection/detection/sfd/s3fd.pth\""
      ],
      "metadata": {
        "colab": {
          "base_uri": "https://localhost:8080/"
        },
        "id": "oocGa0fvWaaV",
        "outputId": "26c47c48-5dbc-4164-8786-22977ed2b9f2"
      },
      "execution_count": null,
      "outputs": [
        {
          "output_type": "stream",
          "name": "stdout",
          "text": [
            "--2023-12-12 19:58:06--  https://www.adrianbulat.com/downloads/python-fan/s3fd-619a316812.pth\n",
            "Resolving www.adrianbulat.com (www.adrianbulat.com)... 45.136.29.207\n",
            "Connecting to www.adrianbulat.com (www.adrianbulat.com)|45.136.29.207|:443... connected.\n",
            "HTTP request sent, awaiting response... 200 OK\n",
            "Length: 89843225 (86M) [application/octet-stream]\n",
            "Saving to: ‘Wav2Lip/face_detection/detection/sfd/s3fd.pth’\n",
            "\n",
            "Wav2Lip/face_detect 100%[===================>]  85.68M  27.2MB/s    in 3.2s    \n",
            "\n",
            "2023-12-12 19:58:09 (27.2 MB/s) - ‘Wav2Lip/face_detection/detection/sfd/s3fd.pth’ saved [89843225/89843225]\n",
            "\n"
          ]
        }
      ]
    },
    {
      "cell_type": "code",
      "source": [
        "# Lets try for input video and audio"
      ],
      "metadata": {
        "id": "1bxTD727WesC"
      },
      "execution_count": null,
      "outputs": []
    },
    {
      "cell_type": "code",
      "source": [
        "!cp \"/content/gdrive/My Drive/Wav2Lip/inp1.mp4\" \"/content/gdrive/My Drive/Wav2Lip/input_audio.wav\" sample_data/\n",
        "!ls sample_data/"
      ],
      "metadata": {
        "colab": {
          "base_uri": "https://localhost:8080/"
        },
        "id": "SioDi7TbWiqR",
        "outputId": "fcae2339-405e-4389-a963-6098da3cf846"
      },
      "execution_count": null,
      "outputs": [
        {
          "output_type": "stream",
          "name": "stdout",
          "text": [
            "anscombe.json\t\t     california_housing_train.csv  input_audio.wav  mnist_train_small.csv\n",
            "california_housing_test.csv  inp1.mp4\t\t\t   mnist_test.csv   README.md\n"
          ]
        }
      ]
    },
    {
      "cell_type": "code",
      "source": [
        "!cd Wav2Lip && python inference.py --checkpoint_path checkpoints/wav2lip_gan.pth --face \"../sample_data/inp1.mp4\" --audio \"../sample_data/input_audio.wav\""
      ],
      "metadata": {
        "colab": {
          "base_uri": "https://localhost:8080/"
        },
        "id": "2moBPknRWwbj",
        "outputId": "83b219a4-485b-4f8e-fdc1-0820d6f1b488"
      },
      "execution_count": null,
      "outputs": [
        {
          "output_type": "stream",
          "name": "stdout",
          "text": [
            "Using cuda for inference.\n",
            "Reading video frames...\n",
            "Number of frames available for inference: 1285\n",
            "(80, 5386)\n",
            "Length of mel chunks: 1680\n",
            "  0% 0/14 [00:00<?, ?it/s]\n",
            "  0% 0/81 [00:00<?, ?it/s]\u001b[A\n",
            "  1% 1/81 [00:19<26:24, 19.81s/it]\u001b[A\n",
            "  2% 2/81 [00:21<11:51,  9.00s/it]\u001b[A\n",
            "  4% 3/81 [00:22<07:12,  5.55s/it]\u001b[A\n",
            "  5% 4/81 [00:24<05:08,  4.01s/it]\u001b[A\n",
            "  6% 5/81 [00:26<04:00,  3.16s/it]\u001b[A\n",
            "  7% 6/81 [00:27<03:16,  2.62s/it]\u001b[A\n",
            "  9% 7/81 [00:29<02:45,  2.24s/it]\u001b[A\n",
            " 10% 8/81 [00:30<02:23,  1.96s/it]\u001b[A\n",
            " 11% 9/81 [00:31<02:08,  1.79s/it]\u001b[A\n",
            " 12% 10/81 [00:33<01:58,  1.66s/it]\u001b[A\n",
            " 14% 11/81 [00:34<01:49,  1.57s/it]\u001b[A\n",
            " 15% 12/81 [00:35<01:43,  1.51s/it]\u001b[A\n",
            " 16% 13/81 [00:37<01:39,  1.47s/it]\u001b[A\n",
            " 17% 14/81 [00:38<01:37,  1.46s/it]\u001b[A\n",
            " 19% 15/81 [00:40<01:38,  1.49s/it]\u001b[A\n",
            " 20% 16/81 [00:41<01:38,  1.52s/it]\u001b[A\n",
            " 21% 17/81 [00:43<01:38,  1.54s/it]\u001b[A\n",
            " 22% 18/81 [00:44<01:36,  1.53s/it]\u001b[A\n",
            " 23% 19/81 [00:46<01:31,  1.48s/it]\u001b[A\n",
            " 25% 20/81 [00:47<01:28,  1.45s/it]\u001b[A\n",
            " 26% 21/81 [00:49<01:25,  1.43s/it]\u001b[A\n",
            " 27% 22/81 [00:50<01:24,  1.43s/it]\u001b[A\n",
            " 28% 23/81 [00:51<01:22,  1.42s/it]\u001b[A\n",
            " 30% 24/81 [00:53<01:20,  1.41s/it]\u001b[A\n",
            " 31% 25/81 [00:54<01:19,  1.43s/it]\u001b[A\n",
            " 32% 26/81 [00:56<01:22,  1.50s/it]\u001b[A\n",
            " 33% 27/81 [00:58<01:23,  1.54s/it]\u001b[A\n",
            " 35% 28/81 [00:59<01:22,  1.56s/it]\u001b[A\n",
            " 36% 29/81 [01:01<01:20,  1.56s/it]\u001b[A\n",
            " 37% 30/81 [01:02<01:16,  1.51s/it]\u001b[A\n",
            " 38% 31/81 [01:03<01:13,  1.47s/it]\u001b[A\n",
            " 40% 32/81 [01:05<01:10,  1.45s/it]\u001b[A\n",
            " 41% 33/81 [01:06<01:08,  1.43s/it]\u001b[A\n",
            " 42% 34/81 [01:08<01:06,  1.42s/it]\u001b[A\n",
            " 43% 35/81 [01:09<01:05,  1.42s/it]\u001b[A\n",
            " 44% 36/81 [01:11<01:04,  1.43s/it]\u001b[A\n",
            " 46% 37/81 [01:12<01:04,  1.48s/it]\u001b[A\n",
            " 47% 38/81 [01:14<01:04,  1.51s/it]\u001b[A\n",
            " 48% 39/81 [01:15<01:04,  1.54s/it]\u001b[A\n",
            " 49% 40/81 [01:17<01:03,  1.54s/it]\u001b[A\n",
            " 51% 41/81 [01:18<01:00,  1.50s/it]\u001b[A\n",
            " 52% 42/81 [01:20<00:57,  1.47s/it]\u001b[A\n",
            " 53% 43/81 [01:21<00:55,  1.46s/it]\u001b[A\n",
            " 54% 44/81 [01:23<00:53,  1.44s/it]\u001b[A\n",
            " 56% 45/81 [01:24<00:51,  1.43s/it]\u001b[A\n",
            " 57% 46/81 [01:25<00:49,  1.42s/it]\u001b[A\n",
            " 58% 47/81 [01:27<00:48,  1.43s/it]\u001b[A\n",
            " 59% 48/81 [01:28<00:49,  1.49s/it]\u001b[A\n",
            " 60% 49/81 [01:30<00:48,  1.52s/it]\u001b[A\n",
            " 62% 50/81 [01:32<00:48,  1.55s/it]\u001b[A\n",
            " 63% 51/81 [01:33<00:45,  1.53s/it]\u001b[A\n",
            " 64% 52/81 [01:35<00:43,  1.50s/it]\u001b[A\n",
            " 65% 53/81 [01:36<00:41,  1.48s/it]\u001b[A\n",
            " 67% 54/81 [01:37<00:39,  1.46s/it]\u001b[A\n",
            " 68% 55/81 [01:39<00:37,  1.44s/it]\u001b[A\n",
            " 69% 56/81 [01:40<00:35,  1.43s/it]\u001b[A\n",
            " 70% 57/81 [01:42<00:34,  1.43s/it]\u001b[A\n",
            " 72% 58/81 [01:43<00:33,  1.45s/it]\u001b[A\n",
            " 73% 59/81 [01:45<00:33,  1.50s/it]\u001b[A\n",
            " 74% 60/81 [01:46<00:32,  1.54s/it]\u001b[A\n",
            " 75% 61/81 [01:48<00:30,  1.55s/it]\u001b[A\n",
            " 77% 62/81 [01:49<00:28,  1.51s/it]\u001b[A\n",
            " 78% 63/81 [01:51<00:26,  1.48s/it]\u001b[A\n",
            " 79% 64/81 [01:52<00:24,  1.46s/it]\u001b[A\n",
            " 80% 65/81 [01:54<00:23,  1.46s/it]\u001b[A\n",
            " 81% 66/81 [01:55<00:21,  1.46s/it]\u001b[A\n",
            " 83% 67/81 [01:57<00:20,  1.46s/it]\u001b[A\n",
            " 84% 68/81 [01:58<00:19,  1.47s/it]\u001b[A\n",
            " 85% 69/81 [02:00<00:18,  1.53s/it]\u001b[A\n",
            " 86% 70/81 [02:01<00:17,  1.57s/it]\u001b[A\n",
            " 88% 71/81 [02:03<00:15,  1.60s/it]\u001b[A\n",
            " 89% 72/81 [02:05<00:14,  1.59s/it]\u001b[A\n",
            " 90% 73/81 [02:06<00:12,  1.54s/it]\u001b[A\n",
            " 91% 74/81 [02:07<00:10,  1.51s/it]\u001b[A\n",
            " 93% 75/81 [02:09<00:08,  1.49s/it]\u001b[A\n",
            " 94% 76/81 [02:10<00:07,  1.47s/it]\u001b[A\n",
            " 95% 77/81 [02:12<00:05,  1.46s/it]\u001b[A\n",
            " 96% 78/81 [02:13<00:04,  1.45s/it]\u001b[A\n",
            " 98% 79/81 [02:15<00:02,  1.48s/it]\u001b[A\n",
            " 99% 80/81 [02:16<00:01,  1.55s/it]\u001b[A\n",
            "100% 81/81 [02:23<00:00,  1.77s/it]\n",
            "Load checkpoint from: checkpoints/wav2lip_gan.pth\n",
            "Model loaded\n",
            "100% 14/14 [02:46<00:00, 11.93s/it]\n",
            "ffmpeg version 4.4.2-0ubuntu0.22.04.1 Copyright (c) 2000-2021 the FFmpeg developers\n",
            "  built with gcc 11 (Ubuntu 11.2.0-19ubuntu1)\n",
            "  configuration: --prefix=/usr --extra-version=0ubuntu0.22.04.1 --toolchain=hardened --libdir=/usr/lib/x86_64-linux-gnu --incdir=/usr/include/x86_64-linux-gnu --arch=amd64 --enable-gpl --disable-stripping --enable-gnutls --enable-ladspa --enable-libaom --enable-libass --enable-libbluray --enable-libbs2b --enable-libcaca --enable-libcdio --enable-libcodec2 --enable-libdav1d --enable-libflite --enable-libfontconfig --enable-libfreetype --enable-libfribidi --enable-libgme --enable-libgsm --enable-libjack --enable-libmp3lame --enable-libmysofa --enable-libopenjpeg --enable-libopenmpt --enable-libopus --enable-libpulse --enable-librabbitmq --enable-librubberband --enable-libshine --enable-libsnappy --enable-libsoxr --enable-libspeex --enable-libsrt --enable-libssh --enable-libtheora --enable-libtwolame --enable-libvidstab --enable-libvorbis --enable-libvpx --enable-libwebp --enable-libx265 --enable-libxml2 --enable-libxvid --enable-libzimg --enable-libzmq --enable-libzvbi --enable-lv2 --enable-omx --enable-openal --enable-opencl --enable-opengl --enable-sdl2 --enable-pocketsphinx --enable-librsvg --enable-libmfx --enable-libdc1394 --enable-libdrm --enable-libiec61883 --enable-chromaprint --enable-frei0r --enable-libx264 --enable-shared\n",
            "  libavutil      56. 70.100 / 56. 70.100\n",
            "  libavcodec     58.134.100 / 58.134.100\n",
            "  libavformat    58. 76.100 / 58. 76.100\n",
            "  libavdevice    58. 13.100 / 58. 13.100\n",
            "  libavfilter     7.110.100 /  7.110.100\n",
            "  libswscale      5.  9.100 /  5.  9.100\n",
            "  libswresample   3.  9.100 /  3.  9.100\n",
            "  libpostproc    55.  9.100 / 55.  9.100\n",
            "\u001b[0;35m[mp3 @ 0x57e1753882c0] \u001b[0m\u001b[0;33mEstimating duration from bitrate, this may be inaccurate\n",
            "\u001b[0mInput #0, mp3, from '../sample_data/input_audio.wav':\n",
            "  Duration: 00:01:07.32, start: 0.000000, bitrate: 96 kb/s\n",
            "  Stream #0:0: Audio: mp3, 44100 Hz, mono, fltp, 96 kb/s\n",
            "Input #1, avi, from 'temp/result.avi':\n",
            "  Metadata:\n",
            "    software        : Lavf59.27.100\n",
            "  Duration: 00:01:07.20, start: 0.000000, bitrate: 1200 kb/s\n",
            "  Stream #1:0: Video: mpeg4 (Simple Profile) (DIVX / 0x58564944), yuv420p, 958x480 [SAR 1:1 DAR 479:240], 1195 kb/s, 25 fps, 25 tbr, 25 tbn, 25 tbc\n",
            "Stream mapping:\n",
            "  Stream #1:0 -> #0:0 (mpeg4 (native) -> h264 (libx264))\n",
            "  Stream #0:0 -> #0:1 (mp3 (mp3float) -> aac (native))\n",
            "Press [q] to stop, [?] for help\n",
            "\u001b[1;36m[libx264 @ 0x57e1753c8e80] \u001b[0m\u001b[0;33m-qscale is ignored, -crf is recommended.\n",
            "\u001b[0m\u001b[1;36m[libx264 @ 0x57e1753c8e80] \u001b[0musing SAR=1/1\n",
            "\u001b[1;36m[libx264 @ 0x57e1753c8e80] \u001b[0musing cpu capabilities: MMX2 SSE2Fast SSSE3 SSE4.2 AVX FMA3 BMI2 AVX2\n",
            "\u001b[1;36m[libx264 @ 0x57e1753c8e80] \u001b[0mprofile High, level 3.1, 4:2:0, 8-bit\n",
            "\u001b[1;36m[libx264 @ 0x57e1753c8e80] \u001b[0m264 - core 163 r3060 5db6aa6 - H.264/MPEG-4 AVC codec - Copyleft 2003-2021 - http://www.videolan.org/x264.html - options: cabac=1 ref=3 deblock=1:0:0 analyse=0x3:0x113 me=hex subme=7 psy=1 psy_rd=1.00:0.00 mixed_ref=1 me_range=16 chroma_me=1 trellis=1 8x8dct=1 cqm=0 deadzone=21,11 fast_pskip=1 chroma_qp_offset=-2 threads=3 lookahead_threads=1 sliced_threads=0 nr=0 decimate=1 interlaced=0 bluray_compat=0 constrained_intra=0 bframes=3 b_pyramid=2 b_adapt=1 b_bias=0 direct=1 weightb=1 open_gop=0 weightp=2 keyint=250 keyint_min=25 scenecut=40 intra_refresh=0 rc_lookahead=40 rc=crf mbtree=1 crf=23.0 qcomp=0.60 qpmin=0 qpmax=69 qpstep=4 ip_ratio=1.40 aq=1:1.00\n",
            "Output #0, mp4, to 'results/result_voice.mp4':\n",
            "  Metadata:\n",
            "    encoder         : Lavf58.76.100\n",
            "  Stream #0:0: Video: h264 (avc1 / 0x31637661), yuv420p(progressive), 958x480 [SAR 1:1 DAR 479:240], q=2-31, 25 fps, 12800 tbn\n",
            "    Metadata:\n",
            "      encoder         : Lavc58.134.100 libx264\n",
            "    Side data:\n",
            "      cpb: bitrate max/min/avg: 0/0/0 buffer size: 0 vbv_delay: N/A\n",
            "  Stream #0:1: Audio: aac (LC) (mp4a / 0x6134706D), 44100 Hz, mono, fltp, 69 kb/s\n",
            "    Metadata:\n",
            "      encoder         : Lavc58.134.100 aac\n",
            "frame= 1680 fps= 46 q=-1.0 Lsize=    5265kB time=00:01:07.31 bitrate= 640.8kbits/s speed=1.86x    \n",
            "video:4641kB audio:571kB subtitle:0kB other streams:0kB global headers:0kB muxing overhead: 1.014835%\n",
            "\u001b[1;36m[libx264 @ 0x57e1753c8e80] \u001b[0mframe I:8     Avg QP:15.82  size: 16269\n",
            "\u001b[1;36m[libx264 @ 0x57e1753c8e80] \u001b[0mframe P:921   Avg QP:20.79  size:  3792\n",
            "\u001b[1;36m[libx264 @ 0x57e1753c8e80] \u001b[0mframe B:751   Avg QP:24.79  size:  1504\n",
            "\u001b[1;36m[libx264 @ 0x57e1753c8e80] \u001b[0mconsecutive B-frames: 34.2% 15.1% 10.7% 40.0%\n",
            "\u001b[1;36m[libx264 @ 0x57e1753c8e80] \u001b[0mmb I  I16..4: 24.0% 68.3%  7.7%\n",
            "\u001b[1;36m[libx264 @ 0x57e1753c8e80] \u001b[0mmb P  I16..4:  1.5%  6.9%  0.3%  P16..4: 25.3%  7.5%  3.1%  0.0%  0.0%    skip:55.6%\n",
            "\u001b[1;36m[libx264 @ 0x57e1753c8e80] \u001b[0mmb B  I16..4:  0.4%  2.3%  0.1%  B16..8: 28.1%  2.8%  0.3%  direct: 0.6%  skip:65.5%  L0:51.9% L1:43.8% BI: 4.3%\n",
            "\u001b[1;36m[libx264 @ 0x57e1753c8e80] \u001b[0m8x8 transform intra:79.6% inter:80.6%\n",
            "\u001b[1;36m[libx264 @ 0x57e1753c8e80] \u001b[0mcoded y,uvDC,uvAC intra: 33.5% 35.6% 7.8% inter: 6.4% 5.8% 0.1%\n",
            "\u001b[1;36m[libx264 @ 0x57e1753c8e80] \u001b[0mi16 v,h,dc,p: 45% 21% 23% 11%\n",
            "\u001b[1;36m[libx264 @ 0x57e1753c8e80] \u001b[0mi8 v,h,dc,ddl,ddr,vr,hd,vl,hu: 26% 17% 44%  2%  2%  2%  2%  2%  2%\n",
            "\u001b[1;36m[libx264 @ 0x57e1753c8e80] \u001b[0mi4 v,h,dc,ddl,ddr,vr,hd,vl,hu: 31% 23% 14%  3%  7%  7%  7%  4%  3%\n",
            "\u001b[1;36m[libx264 @ 0x57e1753c8e80] \u001b[0mi8c dc,h,v,p: 60% 17% 20%  3%\n",
            "\u001b[1;36m[libx264 @ 0x57e1753c8e80] \u001b[0mWeighted P-Frames: Y:0.3% UV:0.0%\n",
            "\u001b[1;36m[libx264 @ 0x57e1753c8e80] \u001b[0mref P L0: 72.8% 10.3% 12.5%  4.4%  0.0%\n",
            "\u001b[1;36m[libx264 @ 0x57e1753c8e80] \u001b[0mref B L0: 85.7% 11.6%  2.8%\n",
            "\u001b[1;36m[libx264 @ 0x57e1753c8e80] \u001b[0mref B L1: 97.2%  2.8%\n",
            "\u001b[1;36m[libx264 @ 0x57e1753c8e80] \u001b[0mkb/s:565.74\n",
            "\u001b[1;36m[aac @ 0x57e1753ca800] \u001b[0mQavg: 158.533\n"
          ]
        }
      ]
    },
    {
      "cell_type": "code",
      "source": [],
      "metadata": {
        "id": "GK4zSgBRb65T"
      },
      "execution_count": null,
      "outputs": []
    },
    {
      "cell_type": "markdown",
      "source": [
        "# 1.   Using more padding to include the chin region"
      ],
      "metadata": {
        "id": "lmkmuiXEcaQr"
      }
    },
    {
      "cell_type": "code",
      "source": [
        "!cd Wav2Lip && python inference.py --checkpoint_path checkpoints/wav2lip_gan.pth --face \"../sample_data/vid_1.mp4\" --audio \"../sample_data/input_audio.wav\" --pads 0 20 0 0"
      ],
      "metadata": {
        "colab": {
          "base_uri": "https://localhost:8080/"
        },
        "id": "GeciCwEHccd4",
        "outputId": "4227da52-72b3-4572-f6b8-229f97d598cd"
      },
      "execution_count": null,
      "outputs": [
        {
          "output_type": "stream",
          "name": "stdout",
          "text": [
            "Using cuda for inference.\n",
            "Reading video frames...\n",
            "Number of frames available for inference: 210\n",
            "(80, 5386)\n",
            "Length of mel chunks: 1680\n",
            "  0% 0/14 [00:00<?, ?it/s]\n",
            "  0% 0/14 [00:00<?, ?it/s]\u001b[A\n",
            "  7% 1/14 [00:16<03:37, 16.72s/it]\u001b[A\n",
            " 14% 2/14 [00:18<01:31,  7.64s/it]\u001b[A\n",
            " 21% 3/14 [00:19<00:51,  4.68s/it]\u001b[A\n",
            " 29% 4/14 [00:20<00:32,  3.28s/it]\u001b[A\n",
            " 36% 5/14 [00:21<00:22,  2.50s/it]\u001b[A\n",
            " 43% 6/14 [00:22<00:16,  2.04s/it]\u001b[A\n",
            " 50% 7/14 [00:23<00:12,  1.74s/it]\u001b[A\n",
            " 57% 8/14 [00:24<00:09,  1.54s/it]\u001b[A\n",
            " 64% 9/14 [00:25<00:07,  1.42s/it]\u001b[A\n",
            " 71% 10/14 [00:27<00:05,  1.34s/it]\u001b[A\n",
            " 79% 11/14 [00:28<00:03,  1.33s/it]\u001b[A\n",
            " 86% 12/14 [00:29<00:02,  1.34s/it]\u001b[A\n",
            " 93% 13/14 [00:31<00:01,  1.34s/it]\u001b[A\n",
            "100% 14/14 [00:33<00:00,  2.40s/it]\n",
            "Load checkpoint from: checkpoints/wav2lip_gan.pth\n",
            "Model loaded\n",
            "100% 14/14 [00:56<00:00,  4.03s/it]\n",
            "ffmpeg version 4.4.2-0ubuntu0.22.04.1 Copyright (c) 2000-2021 the FFmpeg developers\n",
            "  built with gcc 11 (Ubuntu 11.2.0-19ubuntu1)\n",
            "  configuration: --prefix=/usr --extra-version=0ubuntu0.22.04.1 --toolchain=hardened --libdir=/usr/lib/x86_64-linux-gnu --incdir=/usr/include/x86_64-linux-gnu --arch=amd64 --enable-gpl --disable-stripping --enable-gnutls --enable-ladspa --enable-libaom --enable-libass --enable-libbluray --enable-libbs2b --enable-libcaca --enable-libcdio --enable-libcodec2 --enable-libdav1d --enable-libflite --enable-libfontconfig --enable-libfreetype --enable-libfribidi --enable-libgme --enable-libgsm --enable-libjack --enable-libmp3lame --enable-libmysofa --enable-libopenjpeg --enable-libopenmpt --enable-libopus --enable-libpulse --enable-librabbitmq --enable-librubberband --enable-libshine --enable-libsnappy --enable-libsoxr --enable-libspeex --enable-libsrt --enable-libssh --enable-libtheora --enable-libtwolame --enable-libvidstab --enable-libvorbis --enable-libvpx --enable-libwebp --enable-libx265 --enable-libxml2 --enable-libxvid --enable-libzimg --enable-libzmq --enable-libzvbi --enable-lv2 --enable-omx --enable-openal --enable-opencl --enable-opengl --enable-sdl2 --enable-pocketsphinx --enable-librsvg --enable-libmfx --enable-libdc1394 --enable-libdrm --enable-libiec61883 --enable-chromaprint --enable-frei0r --enable-libx264 --enable-shared\n",
            "  libavutil      56. 70.100 / 56. 70.100\n",
            "  libavcodec     58.134.100 / 58.134.100\n",
            "  libavformat    58. 76.100 / 58. 76.100\n",
            "  libavdevice    58. 13.100 / 58. 13.100\n",
            "  libavfilter     7.110.100 /  7.110.100\n",
            "  libswscale      5.  9.100 /  5.  9.100\n",
            "  libswresample   3.  9.100 /  3.  9.100\n",
            "  libpostproc    55.  9.100 / 55.  9.100\n",
            "\u001b[0;35m[mp3 @ 0x565a3c8842c0] \u001b[0m\u001b[0;33mEstimating duration from bitrate, this may be inaccurate\n",
            "\u001b[0mInput #0, mp3, from '../sample_data/input_audio.wav':\n",
            "  Duration: 00:01:07.32, start: 0.000000, bitrate: 96 kb/s\n",
            "  Stream #0:0: Audio: mp3, 44100 Hz, mono, fltp, 96 kb/s\n",
            "Input #1, avi, from 'temp/result.avi':\n",
            "  Metadata:\n",
            "    software        : Lavf59.27.100\n",
            "  Duration: 00:01:07.20, start: 0.000000, bitrate: 1240 kb/s\n",
            "  Stream #1:0: Video: mpeg4 (Simple Profile) (DIVX / 0x58564944), yuv420p, 854x428 [SAR 1:1 DAR 427:214], 1235 kb/s, 25 fps, 25 tbr, 25 tbn, 25 tbc\n",
            "Stream mapping:\n",
            "  Stream #1:0 -> #0:0 (mpeg4 (native) -> h264 (libx264))\n",
            "  Stream #0:0 -> #0:1 (mp3 (mp3float) -> aac (native))\n",
            "Press [q] to stop, [?] for help\n",
            "\u001b[1;36m[libx264 @ 0x565a3c8c4880] \u001b[0m\u001b[0;33m-qscale is ignored, -crf is recommended.\n",
            "\u001b[0m\u001b[1;36m[libx264 @ 0x565a3c8c4880] \u001b[0musing SAR=1/1\n",
            "\u001b[1;36m[libx264 @ 0x565a3c8c4880] \u001b[0musing cpu capabilities: MMX2 SSE2Fast SSSE3 SSE4.2 AVX FMA3 BMI2 AVX2\n",
            "\u001b[1;36m[libx264 @ 0x565a3c8c4880] \u001b[0mprofile High, level 3.0, 4:2:0, 8-bit\n",
            "\u001b[1;36m[libx264 @ 0x565a3c8c4880] \u001b[0m264 - core 163 r3060 5db6aa6 - H.264/MPEG-4 AVC codec - Copyleft 2003-2021 - http://www.videolan.org/x264.html - options: cabac=1 ref=3 deblock=1:0:0 analyse=0x3:0x113 me=hex subme=7 psy=1 psy_rd=1.00:0.00 mixed_ref=1 me_range=16 chroma_me=1 trellis=1 8x8dct=1 cqm=0 deadzone=21,11 fast_pskip=1 chroma_qp_offset=-2 threads=3 lookahead_threads=1 sliced_threads=0 nr=0 decimate=1 interlaced=0 bluray_compat=0 constrained_intra=0 bframes=3 b_pyramid=2 b_adapt=1 b_bias=0 direct=1 weightb=1 open_gop=0 weightp=2 keyint=250 keyint_min=25 scenecut=40 intra_refresh=0 rc_lookahead=40 rc=crf mbtree=1 crf=23.0 qcomp=0.60 qpmin=0 qpmax=69 qpstep=4 ip_ratio=1.40 aq=1:1.00\n",
            "Output #0, mp4, to 'results/result_voice.mp4':\n",
            "  Metadata:\n",
            "    encoder         : Lavf58.76.100\n",
            "  Stream #0:0: Video: h264 (avc1 / 0x31637661), yuv420p(progressive), 854x428 [SAR 1:1 DAR 427:214], q=2-31, 25 fps, 12800 tbn\n",
            "    Metadata:\n",
            "      encoder         : Lavc58.134.100 libx264\n",
            "    Side data:\n",
            "      cpb: bitrate max/min/avg: 0/0/0 buffer size: 0 vbv_delay: N/A\n",
            "  Stream #0:1: Audio: aac (LC) (mp4a / 0x6134706D), 44100 Hz, mono, fltp, 69 kb/s\n",
            "    Metadata:\n",
            "      encoder         : Lavc58.134.100 aac\n",
            "frame= 1680 fps= 53 q=-1.0 Lsize=    5042kB time=00:01:07.31 bitrate= 613.6kbits/s speed=2.13x    \n",
            "video:4419kB audio:571kB subtitle:0kB other streams:0kB global headers:0kB muxing overhead: 1.031502%\n",
            "\u001b[1;36m[libx264 @ 0x565a3c8c4880] \u001b[0mframe I:8     Avg QP:14.46  size: 13065\n",
            "\u001b[1;36m[libx264 @ 0x565a3c8c4880] \u001b[0mframe P:1078  Avg QP:21.30  size:  3317\n",
            "\u001b[1;36m[libx264 @ 0x565a3c8c4880] \u001b[0mframe B:594   Avg QP:24.30  size:  1422\n",
            "\u001b[1;36m[libx264 @ 0x565a3c8c4880] \u001b[0mconsecutive B-frames: 46.9% 14.0% 11.4% 27.6%\n",
            "\u001b[1;36m[libx264 @ 0x565a3c8c4880] \u001b[0mmb I  I16..4: 48.6% 42.9%  8.5%\n",
            "\u001b[1;36m[libx264 @ 0x565a3c8c4880] \u001b[0mmb P  I16..4:  1.6%  7.4%  0.4%  P16..4: 27.1%  7.7%  3.2%  0.0%  0.0%    skip:52.6%\n",
            "\u001b[1;36m[libx264 @ 0x565a3c8c4880] \u001b[0mmb B  I16..4:  0.4%  1.7%  0.1%  B16..8: 32.0%  3.4%  0.4%  direct: 0.9%  skip:61.1%  L0:53.5% L1:40.5% BI: 6.1%\n",
            "\u001b[1;36m[libx264 @ 0x565a3c8c4880] \u001b[0m8x8 transform intra:76.1% inter:75.7%\n",
            "\u001b[1;36m[libx264 @ 0x565a3c8c4880] \u001b[0mcoded y,uvDC,uvAC intra: 27.4% 30.8% 5.0% inter: 7.5% 6.5% 0.0%\n",
            "\u001b[1;36m[libx264 @ 0x565a3c8c4880] \u001b[0mi16 v,h,dc,p: 48% 20% 24%  8%\n",
            "\u001b[1;36m[libx264 @ 0x565a3c8c4880] \u001b[0mi8 v,h,dc,ddl,ddr,vr,hd,vl,hu: 27% 17% 48%  2%  1%  1%  2%  1%  2%\n",
            "\u001b[1;36m[libx264 @ 0x565a3c8c4880] \u001b[0mi4 v,h,dc,ddl,ddr,vr,hd,vl,hu: 26% 31% 14%  3%  6%  5%  8%  4%  3%\n",
            "\u001b[1;36m[libx264 @ 0x565a3c8c4880] \u001b[0mi8c dc,h,v,p: 61% 17% 20%  2%\n",
            "\u001b[1;36m[libx264 @ 0x565a3c8c4880] \u001b[0mWeighted P-Frames: Y:2.2% UV:0.0%\n",
            "\u001b[1;36m[libx264 @ 0x565a3c8c4880] \u001b[0mref P L0: 72.4% 11.3% 12.1%  4.2%  0.1%\n",
            "\u001b[1;36m[libx264 @ 0x565a3c8c4880] \u001b[0mref B L0: 85.4% 12.0%  2.6%\n",
            "\u001b[1;36m[libx264 @ 0x565a3c8c4880] \u001b[0mref B L1: 97.8%  2.2%\n",
            "\u001b[1;36m[libx264 @ 0x565a3c8c4880] \u001b[0mkb/s:538.67\n",
            "\u001b[1;36m[aac @ 0x565a3c8c62c0] \u001b[0mQavg: 158.533\n"
          ]
        }
      ]
    },
    {
      "cell_type": "code",
      "source": [
        "!cd Wav2Lip && python inference.py --checkpoint_path checkpoints/wav2lip_gan.pth --face \"../sample_data/vid_1.mp4\" --audio \"../sample_data/input_audio.wav\" --resize_factor 2"
      ],
      "metadata": {
        "colab": {
          "base_uri": "https://localhost:8080/"
        },
        "id": "7RhQIQIydhlY",
        "outputId": "4204ecf9-c619-4746-e288-3959d4e56bb0"
      },
      "execution_count": null,
      "outputs": [
        {
          "output_type": "stream",
          "name": "stdout",
          "text": [
            "Using cuda for inference.\n",
            "Reading video frames...\n",
            "Number of frames available for inference: 210\n",
            "(80, 5386)\n",
            "Length of mel chunks: 1680\n",
            "  0% 0/14 [00:00<?, ?it/s]\n",
            "  0% 0/14 [00:00<?, ?it/s]\u001b[A\n",
            "  7% 1/14 [00:06<01:22,  6.33s/it]\u001b[A\n",
            " 14% 2/14 [00:06<00:34,  2.83s/it]\u001b[A\n",
            " 21% 3/14 [00:07<00:18,  1.72s/it]\u001b[A\n",
            " 29% 4/14 [00:07<00:11,  1.18s/it]\u001b[A\n",
            " 36% 5/14 [00:07<00:07,  1.13it/s]\u001b[A\n",
            " 43% 6/14 [00:08<00:05,  1.41it/s]\u001b[A\n",
            " 50% 7/14 [00:08<00:04,  1.68it/s]\u001b[A\n",
            " 57% 8/14 [00:08<00:03,  1.92it/s]\u001b[A\n",
            " 64% 9/14 [00:09<00:02,  2.14it/s]\u001b[A\n",
            " 71% 10/14 [00:09<00:01,  2.32it/s]\u001b[A\n",
            " 79% 11/14 [00:09<00:01,  2.41it/s]\u001b[A\n",
            " 86% 12/14 [00:10<00:00,  2.35it/s]\u001b[A\n",
            " 93% 13/14 [00:10<00:00,  2.23it/s]\u001b[A\n",
            "100% 14/14 [00:12<00:00,  1.11it/s]\n",
            "Load checkpoint from: checkpoints/wav2lip_gan.pth\n",
            "Model loaded\n",
            "100% 14/14 [00:32<00:00,  2.29s/it]\n",
            "ffmpeg version 4.4.2-0ubuntu0.22.04.1 Copyright (c) 2000-2021 the FFmpeg developers\n",
            "  built with gcc 11 (Ubuntu 11.2.0-19ubuntu1)\n",
            "  configuration: --prefix=/usr --extra-version=0ubuntu0.22.04.1 --toolchain=hardened --libdir=/usr/lib/x86_64-linux-gnu --incdir=/usr/include/x86_64-linux-gnu --arch=amd64 --enable-gpl --disable-stripping --enable-gnutls --enable-ladspa --enable-libaom --enable-libass --enable-libbluray --enable-libbs2b --enable-libcaca --enable-libcdio --enable-libcodec2 --enable-libdav1d --enable-libflite --enable-libfontconfig --enable-libfreetype --enable-libfribidi --enable-libgme --enable-libgsm --enable-libjack --enable-libmp3lame --enable-libmysofa --enable-libopenjpeg --enable-libopenmpt --enable-libopus --enable-libpulse --enable-librabbitmq --enable-librubberband --enable-libshine --enable-libsnappy --enable-libsoxr --enable-libspeex --enable-libsrt --enable-libssh --enable-libtheora --enable-libtwolame --enable-libvidstab --enable-libvorbis --enable-libvpx --enable-libwebp --enable-libx265 --enable-libxml2 --enable-libxvid --enable-libzimg --enable-libzmq --enable-libzvbi --enable-lv2 --enable-omx --enable-openal --enable-opencl --enable-opengl --enable-sdl2 --enable-pocketsphinx --enable-librsvg --enable-libmfx --enable-libdc1394 --enable-libdrm --enable-libiec61883 --enable-chromaprint --enable-frei0r --enable-libx264 --enable-shared\n",
            "  libavutil      56. 70.100 / 56. 70.100\n",
            "  libavcodec     58.134.100 / 58.134.100\n",
            "  libavformat    58. 76.100 / 58. 76.100\n",
            "  libavdevice    58. 13.100 / 58. 13.100\n",
            "  libavfilter     7.110.100 /  7.110.100\n",
            "  libswscale      5.  9.100 /  5.  9.100\n",
            "  libswresample   3.  9.100 /  3.  9.100\n",
            "  libpostproc    55.  9.100 / 55.  9.100\n",
            "\u001b[0;35m[mp3 @ 0x5c0b3591e2c0] \u001b[0m\u001b[0;33mEstimating duration from bitrate, this may be inaccurate\n",
            "\u001b[0mInput #0, mp3, from '../sample_data/input_audio.wav':\n",
            "  Duration: 00:01:07.32, start: 0.000000, bitrate: 96 kb/s\n",
            "  Stream #0:0: Audio: mp3, 44100 Hz, mono, fltp, 96 kb/s\n",
            "Input #1, avi, from 'temp/result.avi':\n",
            "  Metadata:\n",
            "    software        : Lavf59.27.100\n",
            "  Duration: 00:01:07.20, start: 0.000000, bitrate: 594 kb/s\n",
            "  Stream #1:0: Video: mpeg4 (Simple Profile) (DIVX / 0x58564944), yuv420p, 426x214 [SAR 1:1 DAR 213:107], 589 kb/s, 25 fps, 25 tbr, 25 tbn, 25 tbc\n",
            "Stream mapping:\n",
            "  Stream #1:0 -> #0:0 (mpeg4 (native) -> h264 (libx264))\n",
            "  Stream #0:0 -> #0:1 (mp3 (mp3float) -> aac (native))\n",
            "Press [q] to stop, [?] for help\n",
            "\u001b[1;36m[libx264 @ 0x5c0b35969680] \u001b[0m\u001b[0;33m-qscale is ignored, -crf is recommended.\n",
            "\u001b[0m\u001b[1;36m[libx264 @ 0x5c0b35969680] \u001b[0musing SAR=1/1\n",
            "\u001b[1;36m[libx264 @ 0x5c0b35969680] \u001b[0musing cpu capabilities: MMX2 SSE2Fast SSSE3 SSE4.2 AVX FMA3 BMI2 AVX2\n",
            "\u001b[1;36m[libx264 @ 0x5c0b35969680] \u001b[0mprofile High, level 1.3, 4:2:0, 8-bit\n",
            "\u001b[1;36m[libx264 @ 0x5c0b35969680] \u001b[0m264 - core 163 r3060 5db6aa6 - H.264/MPEG-4 AVC codec - Copyleft 2003-2021 - http://www.videolan.org/x264.html - options: cabac=1 ref=3 deblock=1:0:0 analyse=0x3:0x113 me=hex subme=7 psy=1 psy_rd=1.00:0.00 mixed_ref=1 me_range=16 chroma_me=1 trellis=1 8x8dct=1 cqm=0 deadzone=21,11 fast_pskip=1 chroma_qp_offset=-2 threads=3 lookahead_threads=1 sliced_threads=0 nr=0 decimate=1 interlaced=0 bluray_compat=0 constrained_intra=0 bframes=3 b_pyramid=2 b_adapt=1 b_bias=0 direct=1 weightb=1 open_gop=0 weightp=2 keyint=250 keyint_min=25 scenecut=40 intra_refresh=0 rc_lookahead=40 rc=crf mbtree=1 crf=23.0 qcomp=0.60 qpmin=0 qpmax=69 qpstep=4 ip_ratio=1.40 aq=1:1.00\n",
            "Output #0, mp4, to 'results/result_voice.mp4':\n",
            "  Metadata:\n",
            "    encoder         : Lavf58.76.100\n",
            "  Stream #0:0: Video: h264 (avc1 / 0x31637661), yuv420p(progressive), 426x214 [SAR 1:1 DAR 213:107], q=2-31, 25 fps, 12800 tbn\n",
            "    Metadata:\n",
            "      encoder         : Lavc58.134.100 libx264\n",
            "    Side data:\n",
            "      cpb: bitrate max/min/avg: 0/0/0 buffer size: 0 vbv_delay: N/A\n",
            "  Stream #0:1: Audio: aac (LC) (mp4a / 0x6134706D), 44100 Hz, mono, fltp, 69 kb/s\n",
            "    Metadata:\n",
            "      encoder         : Lavc58.134.100 aac\n",
            "frame= 1680 fps=181 q=-1.0 Lsize=    2366kB time=00:01:07.31 bitrate= 288.0kbits/s speed=7.25x    \n",
            "video:1743kB audio:571kB subtitle:0kB other streams:0kB global headers:0kB muxing overhead: 2.270677%\n",
            "\u001b[1;36m[libx264 @ 0x5c0b35969680] \u001b[0mframe I:8     Avg QP:16.91  size:  6237\n",
            "\u001b[1;36m[libx264 @ 0x5c0b35969680] \u001b[0mframe P:952   Avg QP:22.45  size:  1464\n",
            "\u001b[1;36m[libx264 @ 0x5c0b35969680] \u001b[0mframe B:720   Avg QP:24.94  size:   473\n",
            "\u001b[1;36m[libx264 @ 0x5c0b35969680] \u001b[0mconsecutive B-frames: 36.0% 16.0% 13.8% 34.3%\n",
            "\u001b[1;36m[libx264 @ 0x5c0b35969680] \u001b[0mmb I  I16..4: 29.0% 61.3%  9.7%\n",
            "\u001b[1;36m[libx264 @ 0x5c0b35969680] \u001b[0mmb P  I16..4:  1.3%  5.7%  0.5%  P16..4: 24.6% 12.6%  7.7%  0.0%  0.0%    skip:47.6%\n",
            "\u001b[1;36m[libx264 @ 0x5c0b35969680] \u001b[0mmb B  I16..4:  0.3%  1.3%  0.1%  B16..8: 29.8%  5.3%  1.1%  direct: 1.0%  skip:61.0%  L0:47.2% L1:41.9% BI:10.9%\n",
            "\u001b[1;36m[libx264 @ 0x5c0b35969680] \u001b[0m8x8 transform intra:74.3% inter:61.9%\n",
            "\u001b[1;36m[libx264 @ 0x5c0b35969680] \u001b[0mcoded y,uvDC,uvAC intra: 40.3% 36.6% 9.2% inter: 10.3% 7.7% 0.3%\n",
            "\u001b[1;36m[libx264 @ 0x5c0b35969680] \u001b[0mi16 v,h,dc,p: 52% 17% 22%  9%\n",
            "\u001b[1;36m[libx264 @ 0x5c0b35969680] \u001b[0mi8 v,h,dc,ddl,ddr,vr,hd,vl,hu: 30% 15% 46%  2%  1%  1%  2%  1%  2%\n",
            "\u001b[1;36m[libx264 @ 0x5c0b35969680] \u001b[0mi4 v,h,dc,ddl,ddr,vr,hd,vl,hu: 33% 24% 12%  3%  6%  6%  8%  4%  4%\n",
            "\u001b[1;36m[libx264 @ 0x5c0b35969680] \u001b[0mi8c dc,h,v,p: 59% 16% 22%  3%\n",
            "\u001b[1;36m[libx264 @ 0x5c0b35969680] \u001b[0mWeighted P-Frames: Y:1.9% UV:0.0%\n",
            "\u001b[1;36m[libx264 @ 0x5c0b35969680] \u001b[0mref P L0: 71.7% 12.6% 11.3%  4.3%  0.1%\n",
            "\u001b[1;36m[libx264 @ 0x5c0b35969680] \u001b[0mref B L0: 86.6% 11.0%  2.4%\n",
            "\u001b[1;36m[libx264 @ 0x5c0b35969680] \u001b[0mref B L1: 97.5%  2.5%\n",
            "\u001b[1;36m[libx264 @ 0x5c0b35969680] \u001b[0mkb/s:212.38\n",
            "\u001b[1;36m[aac @ 0x5c0b3596b140] \u001b[0mQavg: 158.533\n"
          ]
        }
      ]
    }
  ]
}